{
 "cells": [
  {
   "cell_type": "code",
   "execution_count": 2,
   "id": "87e76bb9",
   "metadata": {},
   "outputs": [],
   "source": [
    "from sklearn.feature_extraction.text import CountVectorizer\n",
    "from sklearn.feature_extraction.text import ENGLISH_STOP_WORDS"
   ]
  },
  {
   "cell_type": "code",
   "execution_count": null,
   "id": "1223e77b",
   "metadata": {},
   "outputs": [
    {
     "name": "stdout",
     "output_type": "stream",
     "text": [
      "词汇表: {'hotel room': 0, 'room price': 1, 'service hotel': 2}\n"
     ]
    }
   ],
   "source": [
    "corpus = [\n",
    "    \"hotel room price\",  # 文档1\n",
    "    \"service hotel\"      # 文档2  \n",
    "]\n",
    "\n",
    "vec = CountVectorizer(ngram_range=(2,2), stop_words=list(ENGLISH_STOP_WORDS))\n",
    "X = vec.fit_transform(corpus)\n",
    "\n",
    "print(\"词汇表:\", vec.vocabulary_) # {'hotel room': 0, 'room price': 1, 'service hotel': 2}"
   ]
  },
  {
   "cell_type": "code",
   "execution_count": 4,
   "id": "42613b12",
   "metadata": {},
   "outputs": [
    {
     "name": "stdout",
     "output_type": "stream",
     "text": [
      "向量化结果:\n",
      "[[1 1 0]\n",
      " [0 0 1]]\n"
     ]
    }
   ],
   "source": [
    "print(\"向量化结果:\")\n",
    "print(X.toarray())"
   ]
  }
 ],
 "metadata": {
  "kernelspec": {
   "display_name": "zhihu-llm-17th",
   "language": "python",
   "name": "python3"
  },
  "language_info": {
   "codemirror_mode": {
    "name": "ipython",
    "version": 3
   },
   "file_extension": ".py",
   "mimetype": "text/x-python",
   "name": "python",
   "nbconvert_exporter": "python",
   "pygments_lexer": "ipython3",
   "version": "3.12.7"
  }
 },
 "nbformat": 4,
 "nbformat_minor": 5
}
