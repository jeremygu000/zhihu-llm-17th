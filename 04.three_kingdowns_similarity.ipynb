{
 "cells": [
  {
   "cell_type": "code",
   "execution_count": 92,
   "id": "ae657c6d",
   "metadata": {},
   "outputs": [],
   "source": [
    "import jieba # 非常流行的 Python 中文分词库\n",
    "import os\n",
    "from utils import word_seg \n",
    "from gensim.models import Word2Vec\n",
    "from gensim.models.word2vec import PathLineSentences\n",
    "import multiprocessing # 该模块提供了创建进程的功能，允许你在多个CPU核心上并行执行代码。"
   ]
  },
  {
   "cell_type": "code",
   "execution_count": 94,
   "id": "55583051",
   "metadata": {},
   "outputs": [],
   "source": [
    "source_folder='./three_kingdoms/source'\n",
    "segment_folder = './three_kingdoms/segment'\n",
    "\n",
    "word_seg.segment_folder_texts(source_folder, segment_folder)"
   ]
  },
  {
   "cell_type": "code",
   "execution_count": 95,
   "id": "4c197ef5",
   "metadata": {},
   "outputs": [],
   "source": [
    "sentences = PathLineSentences(segment_folder)\n",
    "\n",
    "model2 = Word2Vec(\n",
    "    sentences=sentences,\n",
    "    vector_size=128,\n",
    "    window=8,\n",
    "    min_count=3,\n",
    "    sg=1,\n",
    "    negative=15,\n",
    "    sample=1e-5,          # 高频词下采样，抑制“之/也/曰”等，但不硬删\n",
    "    epochs=15,\n",
    "    workers=multiprocessing.cpu_count(),\n",
    "    seed=42\n",
    ")\n",
    "\n",
    "model2.save('./models/word2Vec.model')\n"
   ]
  },
  {
   "cell_type": "code",
   "execution_count": 96,
   "id": "625ed15d",
   "metadata": {},
   "outputs": [
    {
     "name": "stdout",
     "output_type": "stream",
     "text": [
      "与「曹操」最相近的 10 个词：\n",
      "  程昱\t0.989\n",
      "  使人\t0.988\n",
      "  陈登\t0.987\n",
      "  切不可\t0.987\n",
      "  同往\t0.987\n",
      "  杨松\t0.987\n",
      "  袁绍\t0.986\n",
      "  必\t0.986\n",
      "  布乃\t0.986\n",
      "  依言\t0.986\n"
     ]
    }
   ],
   "source": [
    "def show_similar(model: Word2Vec, word: str, topn: int = 10) -> None:\n",
    "    if word in model.wv.key_to_index:\n",
    "        print(f'与「{word}」最相近的 {topn} 个词：')\n",
    "        for w, s in model.wv.most_similar(word, topn=topn):\n",
    "            print(f'  {w}\\t{s:.3f}')\n",
    "    else:\n",
    "        print(f'⚠️ 词「{word}」不在词表（可能频次低于 min_count）。')\n",
    "\n",
    "show_similar(model2, \"曹操\", topn=10)"
   ]
  },
  {
   "cell_type": "code",
   "execution_count": 97,
   "id": "4929a253",
   "metadata": {},
   "outputs": [
    {
     "data": {
      "text/plain": [
       "[('天下', 0.957622230052948),\n",
       " ('臣', 0.9545016288757324),\n",
       " ('陛下', 0.9515909552574158),\n",
       " ('朕', 0.9498542547225952),\n",
       " ('先帝', 0.9491122364997864),\n",
       " ('卿', 0.9490923881530762),\n",
       " ('则', 0.9480808973312378),\n",
       " ('汉室', 0.9474281072616577),\n",
       " ('托孤', 0.9433239102363586),\n",
       " ('兴兵', 0.9432362914085388)]"
      ]
     },
     "execution_count": 97,
     "metadata": {},
     "output_type": "execute_result"
    }
   ],
   "source": [
    "model2.wv.most_similar(positive=[\"曹操\",\"刘备\"], negative=[\"张飞\"], topn=10)\n"
   ]
  }
 ],
 "metadata": {
  "kernelspec": {
   "display_name": "zhihu-llm-17th",
   "language": "python",
   "name": "python3"
  },
  "language_info": {
   "codemirror_mode": {
    "name": "ipython",
    "version": 3
   },
   "file_extension": ".py",
   "mimetype": "text/x-python",
   "name": "python",
   "nbconvert_exporter": "python",
   "pygments_lexer": "ipython3",
   "version": "3.12.7"
  }
 },
 "nbformat": 4,
 "nbformat_minor": 5
}
